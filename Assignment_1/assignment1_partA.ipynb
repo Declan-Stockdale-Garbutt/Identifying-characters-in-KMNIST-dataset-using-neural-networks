{
  "nbformat": 4,
  "nbformat_minor": 0,
  "metadata": {
    "colab": {
      "name": "assignment1-partA-11214549.ipynb.ipynb",
      "provenance": [],
      "collapsed_sections": []
    },
    "kernelspec": {
      "name": "python3",
      "display_name": "Python 3"
    },
    "language_info": {
      "name": "python"
    }
  },
  "cells": [
    {
      "cell_type": "markdown",
      "source": [
        "# Perceptron from scratch\n",
        "\n",
        "In this assignment, we will be reimplementing a Neural Networks from scratch. \n",
        "\n",
        "In part A, we are going to build a simple Perceptron on a small dataset that contains only 3 features.\n",
        "\n",
        "<img src='https://drive.google.com/uc?id=1aUtXFBMKUumwfZ-2jmR5SIvNYPaD-t2x' width=\"500\" height=\"250\">\n",
        "\n",
        "Some of the code have already been defined for you. You need only to add your code in the sections specified (marked with **TODO**). Some assert statements have been added to verify the expected outputs are correct. If it does throw an error, this means your implementation is behaving as expected.\n",
        "\n",
        "Note: You are only allowed to use Numpy and Pandas packages for the implemention of Perceptron. You can not packages such as Sklearn or Tensorflow."
      ],
      "metadata": {
        "id": "-kcF6GRPRK8Z"
      }
    },
    {
      "cell_type": "markdown",
      "source": [
        "# 1. Import Required Packages\n",
        "\n",
        "[1.1] We are going to use numpy and random packages"
      ],
      "metadata": {
        "id": "wUg1PkpnZAya"
      }
    },
    {
      "cell_type": "code",
      "source": [
        "import numpy as np\n",
        "import random"
      ],
      "metadata": {
        "id": "2rit905Vv-4-"
      },
      "execution_count": null,
      "outputs": []
    },
    {
      "cell_type": "markdown",
      "source": [
        "# 2. Define Dataset\n",
        "\n",
        "[2.1] We are going to use a simple dataset containing 3 features and 7 observations. The target variable is a binary outcome (either 0 or 1)"
      ],
      "metadata": {
        "id": "oFznxXvATvMo"
      }
    },
    {
      "cell_type": "code",
      "source": [
        "input_set = np.array([[0,1,0], [0,0,1], [1,0,0], [1,1,0], [1,1,1], [0,1,1], [0,1,0]])\n",
        "labels = np.array([[1], [0], [0], [1], [1], [0], [1]])"
      ],
      "metadata": {
        "id": "CPN-_r8FLCgS"
      },
      "execution_count": null,
      "outputs": []
    },
    {
      "cell_type": "markdown",
      "source": [
        "# 3. Set Initial Parameters"
      ],
      "metadata": {
        "id": "SyYmv5E0T3XP"
      }
    },
    {
      "cell_type": "markdown",
      "source": [
        "[3.1] Let's set the seed in order to have reproducible outcomes"
      ],
      "metadata": {
        "id": "W9kp1UWFUc9N"
      }
    },
    {
      "cell_type": "code",
      "source": [
        "np.random.seed(42)"
      ],
      "metadata": {
        "id": "RgolHUMVT8GA"
      },
      "execution_count": null,
      "outputs": []
    },
    {
      "cell_type": "markdown",
      "source": [
        "[3.2] **TODO**: Define a function that will create a Numpy array of a given shape with random values. \n",
        "\n",
        "\n",
        "For example, `initialise_array(3,1)` will return an array of dimensions (3,1)that can look like this (values may be different):\n",
        "\n",
        "\n",
        "`array([[0.37454012],\n",
        "       [0.95071431],\n",
        "       [0.73199394]])`"
      ],
      "metadata": {
        "id": "5BFSPtVAUpf-"
      }
    },
    {
      "cell_type": "code",
      "source": [
        "# TODO (Students need to fill this section)\n",
        "def initialise_array(shape):\n",
        "  if len(shape) ==2:\n",
        "      return np.random.rand(shape[0], shape[1])\n",
        "\n",
        "  if len(shape) ==1:\n",
        "      return np.random.rand(shape[0], )"
      ],
      "metadata": {
        "id": "p_dorRcqVYCT"
      },
      "execution_count": null,
      "outputs": []
    },
    {
      "cell_type": "markdown",
      "source": [
        "[3.3] **TODO**: Create a Numpy array of shape (3,1) called `init_weights` filled with random values and print them."
      ],
      "metadata": {
        "id": "tRQW2pyTXHL7"
      }
    },
    {
      "cell_type": "code",
      "source": [
        "# TODO (Students need to fill this section)\n",
        "\n",
        "# initialise array with shape (3,1)\n",
        "init_weights = initialise_array((3,1))\n",
        "\n",
        "print(init_weights)"
      ],
      "metadata": {
        "id": "SKg1QtPdXlQW",
        "outputId": "a9549736-262f-45bf-c232-312b64646c27",
        "colab": {
          "base_uri": "https://localhost:8080/"
        }
      },
      "execution_count": null,
      "outputs": [
        {
          "output_type": "stream",
          "name": "stdout",
          "text": [
            "[[0.21233911]\n",
            " [0.18182497]\n",
            " [0.18340451]]\n"
          ]
        }
      ]
    },
    {
      "cell_type": "markdown",
      "source": [
        "[3.4] **TODO**: Create a Numpy array of shape (1,) called `init_bias` filled with a random value and print it."
      ],
      "metadata": {
        "id": "yhl-s-nNXzWL"
      }
    },
    {
      "cell_type": "code",
      "source": [
        "# TODO (Students need to fill this section)\n",
        "\n",
        "#initialise array called init_bias\n",
        "init_bias = initialise_array((1,))\n",
        "print(init_bias)"
      ],
      "metadata": {
        "id": "7GWLGBDDX6Ge",
        "outputId": "38d2c81c-1507-42b1-f80c-452f9a8830ca",
        "colab": {
          "base_uri": "https://localhost:8080/"
        }
      },
      "execution_count": null,
      "outputs": [
        {
          "output_type": "stream",
          "name": "stdout",
          "text": [
            "[0.52475643]\n"
          ]
        }
      ]
    },
    {
      "cell_type": "markdown",
      "source": [
        "[3.5] Assert statements to check your created variables have the expected shapes"
      ],
      "metadata": {
        "id": "-o3y_gmFX9U3"
      }
    },
    {
      "cell_type": "code",
      "source": [
        "# check values are as they shoul be\n",
        "\n",
        "assert init_weights.shape == (3, 1)\n",
        "assert init_bias.shape == (1,)"
      ],
      "metadata": {
        "id": "6ZKdef3yWpXh"
      },
      "execution_count": null,
      "outputs": []
    },
    {
      "cell_type": "markdown",
      "source": [
        "# 4. Define Linear Function\n",
        "In this section we are going to implement the linear function of a neuron:\n",
        "\n",
        "<img src='https://drive.google.com/uc?id=1vhfpGffqletFDzMIvWkCMR2jrHE5MBy5' width=\"500\" height=\"300\">"
      ],
      "metadata": {
        "id": "PcWYiiMWYRET"
      }
    },
    {
      "cell_type": "markdown",
      "source": [
        "[4.1] **TODO**: Define a function that will perform a dot product on the provided X and weights and add the bias to it"
      ],
      "metadata": {
        "id": "6LX0Yn_OYw3V"
      }
    },
    {
      "cell_type": "code",
      "source": [
        "# TODO (Students need to fill this section)\n",
        "def linear(X, weights, bias):\n",
        "    return np.dot(X,weights)+bias"
      ],
      "metadata": {
        "id": "ZKx_OQKnZ2UH"
      },
      "execution_count": null,
      "outputs": []
    },
    {
      "cell_type": "markdown",
      "source": [
        "#[4.2] Assert statements to check your linear function is behaving as expected"
      ],
      "metadata": {
        "id": "wIhdbPD8bayw"
      }
    },
    {
      "cell_type": "code",
      "source": [
        "# testing maths checks out\n",
        "test_weights = [[0.37454012],[0.95071431],[0.73199394]]\n",
        "test_bias = [0.59865848]\n",
        "assert linear(X=input_set[0], weights=test_weights, bias=test_bias)[0] == 1.54937279\n",
        "assert linear(X=input_set[1], weights=test_weights, bias=test_bias)[0] == 1.3306524199999998\n",
        "assert linear(X=input_set[2], weights=test_weights, bias=test_bias)[0] == 0.9731985999999999\n",
        "assert linear(X=input_set[3], weights=test_weights, bias=test_bias)[0] == 1.9239129099999999\n",
        "assert linear(X=input_set[4], weights=test_weights, bias=test_bias)[0] == 2.65590685\n",
        "assert linear(X=input_set[5], weights=test_weights, bias=test_bias)[0] == 2.28136673\n",
        "assert linear(X=input_set[6], weights=test_weights, bias=test_bias)[0] == 1.54937279"
      ],
      "metadata": {
        "id": "BF7DDft0aOPU"
      },
      "execution_count": null,
      "outputs": []
    },
    {
      "cell_type": "markdown",
      "source": [
        "# 5. Activation Function\n",
        "\n",
        "In the forward pass, an activation function is applied on the result of the linear function. We are going to implement the sigmoid function and its derivative:\n",
        "\n",
        "<img src='https://drive.google.com/uc?id=1LK7yjCp4KBICYNvTXzILQUzQbkm7G9xC' width=\"200\" height=\"100\">\n",
        "<img src='https://drive.google.com/uc?id=1f5jUyw0wgiVufNqveeJVZnQc6pOrDJXD' width=\"300\" height=\"100\">\n"
      ],
      "metadata": {
        "id": "aPU5Rq62blmE"
      }
    },
    {
      "cell_type": "markdown",
      "source": [
        "[5.1] **TODO**: Define a function that will implement the sigmoid function"
      ],
      "metadata": {
        "id": "rYZHAb-RdNck"
      }
    },
    {
      "cell_type": "code",
      "source": [
        "# TODO (Students need to fill this section)\n",
        "def sigmoid(x):\n",
        "    sigmoid = 1 / (1 + np.exp(-x))\n",
        "    return sigmoid"
      ],
      "metadata": {
        "id": "fmqOuw4afvrH"
      },
      "execution_count": null,
      "outputs": []
    },
    {
      "cell_type": "markdown",
      "source": [
        "[5.2] Assert statements to check your sigmoid function is behaving as expected"
      ],
      "metadata": {
        "id": "AsWa4glVf4zB"
      }
    },
    {
      "cell_type": "code",
      "source": [
        "#check sigmoid works as expected\n",
        "\n",
        "assert sigmoid(0) == 0.5\n",
        "assert sigmoid(1) == 0.7310585786300049\n",
        "assert sigmoid(-1) == 0.2689414213699951\n",
        "assert sigmoid(9999999999999) == 1.0\n",
        "assert sigmoid(-9999999999999) == 0.0"
      ],
      "metadata": {
        "colab": {
          "base_uri": "https://localhost:8080/"
        },
        "id": "f_36rZRrLfP9",
        "outputId": "dbebf0f5-80a1-476c-dbbb-84044b2847bc"
      },
      "execution_count": null,
      "outputs": [
        {
          "output_type": "stream",
          "name": "stderr",
          "text": [
            "/usr/local/lib/python3.7/dist-packages/ipykernel_launcher.py:3: RuntimeWarning: overflow encountered in exp\n",
            "  This is separate from the ipykernel package so we can avoid doing imports until\n"
          ]
        }
      ]
    },
    {
      "cell_type": "markdown",
      "source": [
        "[5.3] **TODO**: Define a function that will implement the derivative of the sigmoid function"
      ],
      "metadata": {
        "id": "MEnLWtDCgWLF"
      }
    },
    {
      "cell_type": "code",
      "source": [
        "# TODO (Students need to fill this section)\n",
        "def sigmoid_derivative(x):\n",
        "  sigmoid_derivative = sigmoid(x)*(1-sigmoid(x))\n",
        "  return sigmoid_derivative"
      ],
      "metadata": {
        "id": "OG3SorjugZyS"
      },
      "execution_count": null,
      "outputs": []
    },
    {
      "cell_type": "markdown",
      "source": [
        "[5.2] Assert statements to check your sigmoid_derivative function is behaving as expected"
      ],
      "metadata": {
        "id": "vwVtASkEgeok"
      }
    },
    {
      "cell_type": "code",
      "source": [
        "#check derivate works as expected \n",
        "\n",
        "assert sigmoid_derivative(0) == 0.25\n",
        "assert sigmoid_derivative(1) == 0.19661193324148185\n",
        "assert sigmoid_derivative(-1) == 0.19661193324148185\n",
        "assert sigmoid_derivative(9999999999999) == 0.0\n",
        "assert sigmoid_derivative(-9999999999999) == 0.0"
      ],
      "metadata": {
        "colab": {
          "base_uri": "https://localhost:8080/"
        },
        "id": "oVXCcUTZLUpj",
        "outputId": "b3d5673c-1fcc-4723-e3a6-5991d01c0c3c"
      },
      "execution_count": null,
      "outputs": [
        {
          "output_type": "stream",
          "name": "stderr",
          "text": [
            "/usr/local/lib/python3.7/dist-packages/ipykernel_launcher.py:3: RuntimeWarning: overflow encountered in exp\n",
            "  This is separate from the ipykernel package so we can avoid doing imports until\n"
          ]
        }
      ]
    },
    {
      "cell_type": "markdown",
      "source": [
        "# 6. Forward Pass\n",
        "\n",
        "Now we have everything we need to implement the forward propagation"
      ],
      "metadata": {
        "id": "LMacN5l4gkim"
      }
    },
    {
      "cell_type": "markdown",
      "source": [
        "[6.1] **TODO**: Define a function that will implement the forward pass (apply linear function on the input followed by the sigmoid activation function)"
      ],
      "metadata": {
        "id": "ticTCz4Yg1Ze"
      }
    },
    {
      "cell_type": "code",
      "source": [
        "# TODO (Students need to fill this section)\n",
        "def forward(X, weights, bias):\n",
        "  lin = linear(X,weights, bias)\n",
        "  return sigmoid(lin)"
      ],
      "metadata": {
        "id": "FuyjHgpahKD9"
      },
      "execution_count": null,
      "outputs": []
    },
    {
      "cell_type": "markdown",
      "source": [
        "[6.2] Assert statements to check your forward function is behaving as expected"
      ],
      "metadata": {
        "id": "l4ZI4yoDhPrX"
      }
    },
    {
      "cell_type": "code",
      "source": [
        "# check forward pass works as expected\n",
        "assert forward(X=input_set[0], weights=test_weights, bias=test_bias)[0] == 0.8248231247647452\n",
        "assert forward(X=input_set[1], weights=test_weights, bias=test_bias)[0] == 0.7909485322272701\n",
        "assert forward(X=input_set[2], weights=test_weights, bias=test_bias)[0] == 0.7257565873271445\n",
        "assert forward(X=input_set[3], weights=test_weights, bias=test_bias)[0] == 0.8725741389540382\n",
        "assert forward(X=input_set[4], weights=test_weights, bias=test_bias)[0] == 0.9343741240208852\n",
        "assert forward(X=input_set[5], weights=test_weights, bias=test_bias)[0] == 0.9073220375080315\n",
        "assert forward(X=input_set[6], weights=test_weights, bias=test_bias)[0] == 0.8248231247647452"
      ],
      "metadata": {
        "id": "ebJmLZQtNJMQ"
      },
      "execution_count": null,
      "outputs": []
    },
    {
      "cell_type": "markdown",
      "source": [
        "# 7. Calculate Error\n",
        "\n",
        "After the forward pass, the Neural Networks will calculate the error between its predictions (output of forward pass) and the actual targets."
      ],
      "metadata": {
        "id": "hLlcne6nhTiF"
      }
    },
    {
      "cell_type": "markdown",
      "source": [
        "[7.1] **TODO**: Define a function that will implement the error calculation (difference between predictions and actual targets)"
      ],
      "metadata": {
        "id": "ucesRV6mgi5Q"
      }
    },
    {
      "cell_type": "code",
      "source": [
        "# TODO (Students need to fill this section)\n",
        "def calculate_error(actual, pred):\n",
        "  total_error = 0\n",
        "\n",
        "  for i in range(len(actual)):\n",
        "    error = pred[i] - actual[i]\n",
        "    total_error += error\n",
        "\n",
        "  return total_error"
      ],
      "metadata": {
        "id": "08oSjRvmh3_S"
      },
      "execution_count": null,
      "outputs": []
    },
    {
      "cell_type": "markdown",
      "source": [
        "[7.2] Assert statements to check your calculate_error function is behaving as expected"
      ],
      "metadata": {
        "id": "X5TWDZdIh_-D"
      }
    },
    {
      "cell_type": "code",
      "source": [
        "# check error works as expected\n",
        "test_actual = np.array([0,0,0,1,1,1])\n",
        "assert calculate_error(actual=test_actual, pred=[0,0,0,1,1,1]).sum() == 0\n",
        "assert calculate_error(actual=test_actual, pred=[0,0,0,1,1,0]).sum() == -1\n",
        "assert calculate_error(actual=test_actual, pred=[0,0,0,0,0,0]).sum() == -3"
      ],
      "metadata": {
        "id": "GAWsb4KpOgL4"
      },
      "execution_count": null,
      "outputs": []
    },
    {
      "cell_type": "markdown",
      "source": [
        "# 8. Calculate Gradients\n",
        "Once the error has been calculated, a Neural Networks will use this information to update its weights accordingly."
      ],
      "metadata": {
        "id": "JUulr3gZiUXx"
      }
    },
    {
      "cell_type": "markdown",
      "source": [
        "[8.1] Let's creata function that calculate the gradients using the sigmoid derivative function and applying the chain rule."
      ],
      "metadata": {
        "id": "zGcDakS9imth"
      }
    },
    {
      "cell_type": "code",
      "source": [
        "def calculate_gradients(pred, error, input):\n",
        "  dpred = sigmoid_derivative(pred)\n",
        "  z_del = error * dpred\n",
        "  gradients = np.dot(input.T, z_del)\n",
        "  return gradients, z_del"
      ],
      "metadata": {
        "id": "pvLIqdu9QQBg"
      },
      "execution_count": null,
      "outputs": []
    },
    {
      "cell_type": "markdown",
      "source": [
        "# 9. Training\n",
        "\n",
        "Now that we built all the components of a Neural Networks, we can finally train it on our dataset."
      ],
      "metadata": {
        "id": "VS4K4qlSi0kp"
      }
    },
    {
      "cell_type": "markdown",
      "source": [
        "[9.1] Create 2 variables called `weights` and `bias` that will respectively take the value of `init_weights` and `init_bias`"
      ],
      "metadata": {
        "id": "BcOC1D6LjKEX"
      }
    },
    {
      "cell_type": "code",
      "source": [
        "weights = init_weights\n",
        "bias = init_bias"
      ],
      "metadata": {
        "id": "ohEe-udeOZR1"
      },
      "execution_count": null,
      "outputs": []
    },
    {
      "cell_type": "markdown",
      "source": [
        "[9.2] Create a variable called `lr` that will be used as the learning rate for updating the weights"
      ],
      "metadata": {
        "id": "L8_DzvuqjXOe"
      }
    },
    {
      "cell_type": "code",
      "source": [
        "lr = 0.5"
      ],
      "metadata": {
        "id": "X2DFhqF4jJdz"
      },
      "execution_count": null,
      "outputs": []
    },
    {
      "cell_type": "markdown",
      "source": [
        "[9.3] Create a variable called `epochs` with the value 10000. This will the number of times the Neural Networks will process the entire dataset and update its weights"
      ],
      "metadata": {
        "id": "QYt-FXr2jhNI"
      }
    },
    {
      "cell_type": "code",
      "source": [
        "epochs = 10000"
      ],
      "metadata": {
        "id": "VS8BWdy5jlra"
      },
      "execution_count": null,
      "outputs": []
    },
    {
      "cell_type": "markdown",
      "source": [
        "[9.4] Create a for loop that will perform the training of our Neural Networks"
      ],
      "metadata": {
        "id": "zrA8T0r0j0SO"
      }
    },
    {
      "cell_type": "code",
      "source": [
        "for epoch in range(epochs):\n",
        "    inputs = input_set\n",
        "\n",
        "    # Forward Propagation\n",
        "    z = forward(X=inputs, weights=weights, bias=bias)\n",
        "\n",
        "    # Error\n",
        "    error = calculate_error(actual=labels, pred=z)\n",
        "\n",
        "    # Back Propagation\n",
        "    gradients, z_del = calculate_gradients(pred=z, error=error, input=input_set)\n",
        "\n",
        "    # Update parameters\n",
        "    weights = weights - lr * gradients\n",
        "    for num in z_del:\n",
        "        bias = bias - lr * num\n"
      ],
      "metadata": {
        "id": "VvACgpjDMPpI"
      },
      "execution_count": null,
      "outputs": []
    },
    {
      "cell_type": "markdown",
      "source": [
        "[9.5] **TODO** Print the final values of `weights` and `bias`"
      ],
      "metadata": {
        "id": "K9jYXShpkEp7"
      }
    },
    {
      "cell_type": "code",
      "source": [
        "# TODO (Students need to fill this section)\n",
        "print('weights', weights)\n",
        "print('bias', bias)"
      ],
      "metadata": {
        "id": "POA_DyrRkPup",
        "outputId": "a84c2b14-3f25-463b-f000-26d4fbdb51f0",
        "colab": {
          "base_uri": "https://localhost:8080/"
        }
      },
      "execution_count": null,
      "outputs": [
        {
          "output_type": "stream",
          "name": "stdout",
          "text": [
            "weights [[0.19042067]\n",
            " [2.33970017]\n",
            " [0.09568463]]\n",
            "bias [-1.51253181]\n"
          ]
        }
      ]
    },
    {
      "cell_type": "markdown",
      "source": [
        "# 10. Compare before and after training\n",
        "\n",
        "Let's compare the predictions of our Neural Networks before (using `init_weights` and `init_bias`) and after the training (using `weights` and `bias`)"
      ],
      "metadata": {
        "id": "XAtGwsp6iNuw"
      }
    },
    {
      "cell_type": "markdown",
      "source": [
        "[10.1] Create a function to display the values of a single observation from the dataset (using its index), the error and the actual target and prediction"
      ],
      "metadata": {
        "id": "lU5T4iJTkv8j"
      }
    },
    {
      "cell_type": "code",
      "source": [
        "def compare_pred(weights, bias, index, X, y):\n",
        "    pred = forward(X=X[index], weights=weights, bias=bias)\n",
        "    actual = y[index]\n",
        "    error = calculate_error(actual, pred)\n",
        "    print(f\"{X[index]} - Error {error} - Actual: {actual} - Pred: {pred}\")"
      ],
      "metadata": {
        "id": "j4yTdgGcQms5"
      },
      "execution_count": null,
      "outputs": []
    },
    {
      "cell_type": "markdown",
      "source": [
        "[10.2] Compare the results on the first observation (index 0)"
      ],
      "metadata": {
        "id": "kEK9e_0ulM-k"
      }
    },
    {
      "cell_type": "code",
      "source": [
        "compare_pred(weights=init_weights, bias=init_bias, index=0, X=input_set, y=labels)\n",
        "compare_pred(weights=weights, bias=bias, index=0, X=input_set, y=labels)"
      ],
      "metadata": {
        "colab": {
          "base_uri": "https://localhost:8080/"
        },
        "id": "Q3FA6y1QQc-l",
        "outputId": "c27cc7a0-a5b8-4856-ee3b-28c200254ac7"
      },
      "execution_count": null,
      "outputs": [
        {
          "output_type": "stream",
          "name": "stdout",
          "text": [
            "[0 1 0] - Error -0.3303546656373887 - Actual: [1] - Pred: [0.66964533]\n",
            "[0 1 0] - Error -0.30424413876149714 - Actual: [1] - Pred: [0.69575586]\n"
          ]
        }
      ]
    },
    {
      "cell_type": "markdown",
      "source": [
        "[10.3] Compare the results on the second observation (index 1)"
      ],
      "metadata": {
        "id": "emEbcf13lyjE"
      }
    },
    {
      "cell_type": "code",
      "source": [
        "compare_pred(weights=init_weights, bias=init_bias, index=1, X=input_set, y=labels)\n",
        "compare_pred(weights=weights, bias=bias, index=1, X=input_set, y=labels)"
      ],
      "metadata": {
        "colab": {
          "base_uri": "https://localhost:8080/"
        },
        "id": "jQMJvQ_FlywM",
        "outputId": "46f29c01-9f28-4a30-cd52-d935113b0c46"
      },
      "execution_count": null,
      "outputs": [
        {
          "output_type": "stream",
          "name": "stdout",
          "text": [
            "[0 0 1] - Error 0.6699946678335177 - Actual: [0] - Pred: [0.66999467]\n",
            "[0 0 1] - Error 0.1951563217498051 - Actual: [0] - Pred: [0.19515632]\n"
          ]
        }
      ]
    },
    {
      "cell_type": "markdown",
      "source": [
        "[10.4] Compare the results on the third observation (index 2)"
      ],
      "metadata": {
        "id": "BUtP4AmWld0f"
      }
    },
    {
      "cell_type": "code",
      "source": [
        "compare_pred(weights=init_weights, bias=init_bias, index=2, X=input_set, y=labels)\n",
        "compare_pred(weights=weights, bias=bias, index=2, X=input_set, y=labels)"
      ],
      "metadata": {
        "colab": {
          "base_uri": "https://localhost:8080/"
        },
        "id": "imU4LVeqQTXg",
        "outputId": "7e74bd26-5b9f-4b5a-a2b2-682baa678d4a"
      },
      "execution_count": null,
      "outputs": [
        {
          "output_type": "stream",
          "name": "stdout",
          "text": [
            "[1 0 0] - Error 0.6763604050865398 - Actual: [0] - Pred: [0.67636041]\n",
            "[1 0 0] - Error 0.2104672693666103 - Actual: [0] - Pred: [0.21046727]\n"
          ]
        }
      ]
    },
    {
      "cell_type": "markdown",
      "source": [
        "[10.5] Compare the results on the forth observation (index 3)"
      ],
      "metadata": {
        "id": "7n7_s2EAl7M2"
      }
    },
    {
      "cell_type": "code",
      "source": [
        "compare_pred(weights=init_weights, bias=init_bias, index=3, X=input_set, y=labels)\n",
        "compare_pred(weights=weights, bias=bias, index=3, X=input_set, y=labels)"
      ],
      "metadata": {
        "colab": {
          "base_uri": "https://localhost:8080/"
        },
        "id": "GFgNdYm0l7TD",
        "outputId": "24cfdd0f-09c3-4002-ef7e-0eb3f85460e3"
      },
      "execution_count": null,
      "outputs": [
        {
          "output_type": "stream",
          "name": "stdout",
          "text": [
            "[1 1 0] - Error -0.2851778989751026 - Actual: [1] - Pred: [0.7148221]\n",
            "[1 1 0] - Error -0.2654972949183452 - Actual: [1] - Pred: [0.73450271]\n"
          ]
        }
      ]
    },
    {
      "cell_type": "markdown",
      "source": [
        "[10.6] Compare the results on the fifth observation (index 4)"
      ],
      "metadata": {
        "id": "wnr_LygFmAvK"
      }
    },
    {
      "cell_type": "code",
      "source": [
        "compare_pred(weights=init_weights, bias=init_bias, index=4, X=input_set, y=labels)\n",
        "compare_pred(weights=weights, bias=bias, index=4, X=input_set, y=labels)"
      ],
      "metadata": {
        "colab": {
          "base_uri": "https://localhost:8080/"
        },
        "id": "euONWlvWmA1o",
        "outputId": "e985667d-e232-4943-d6ac-58ab894686e6"
      },
      "execution_count": null,
      "outputs": [
        {
          "output_type": "stream",
          "name": "stdout",
          "text": [
            "[1 1 1] - Error -0.249304509334494 - Actual: [1] - Pred: [0.75069549]\n",
            "[1 1 1] - Error -0.24726108251409729 - Actual: [1] - Pred: [0.75273892]\n"
          ]
        }
      ]
    },
    {
      "cell_type": "markdown",
      "source": [
        "[10.7] Compare the results on the sixth observation (index 5)"
      ],
      "metadata": {
        "id": "exRMYCRKlhI3"
      }
    },
    {
      "cell_type": "code",
      "source": [
        "compare_pred(weights=init_weights, bias=init_bias, index=5, X=input_set, y=labels)\n",
        "compare_pred(weights=weights, bias=bias, index=5, X=input_set, y=labels)"
      ],
      "metadata": {
        "colab": {
          "base_uri": "https://localhost:8080/"
        },
        "id": "e77HEuVWQN_9",
        "outputId": "3da42a3b-0558-4628-825e-3380dd92d9cc"
      },
      "execution_count": null,
      "outputs": [
        {
          "output_type": "stream",
          "name": "stdout",
          "text": [
            "[0 1 1] - Error 0.7088872646064125 - Actual: [0] - Pred: [0.70888726]\n",
            "[0 1 1] - Error 0.7156230638390889 - Actual: [0] - Pred: [0.71562306]\n"
          ]
        }
      ]
    },
    {
      "cell_type": "markdown",
      "source": [
        "[10.8] Compare the results on the sixth observation (index 5)"
      ],
      "metadata": {
        "id": "pumbj0jHmLur"
      }
    },
    {
      "cell_type": "code",
      "source": [
        "compare_pred(weights=init_weights, bias=init_bias, index=6, X=input_set, y=labels)\n",
        "compare_pred(weights=weights, bias=bias, index=6, X=input_set, y=labels)"
      ],
      "metadata": {
        "id": "0glVvMi5mL1s",
        "outputId": "cb37165f-3975-4cc9-afa4-2eecf3276224",
        "colab": {
          "base_uri": "https://localhost:8080/"
        }
      },
      "execution_count": null,
      "outputs": [
        {
          "output_type": "stream",
          "name": "stdout",
          "text": [
            "[0 1 0] - Error -0.3303546656373887 - Actual: [1] - Pred: [0.66964533]\n",
            "[0 1 0] - Error -0.30424413876149714 - Actual: [1] - Pred: [0.69575586]\n"
          ]
        }
      ]
    },
    {
      "cell_type": "markdown",
      "source": [
        "We can see after 10000 epochs, our Neural Networks is performing extremely well on our dataset. It has found pretty good values for the weights and bias to make accurate prediction."
      ],
      "metadata": {
        "id": "TIKnRhySlqga"
      }
    },
    {
      "cell_type": "markdown",
      "source": [
        "Please submit this notebook into Canvas. Name it following this rule: *assignment1-partA-\\<student_id\\>.ipynb*"
      ],
      "metadata": {
        "id": "C7SGwABjmqN7"
      }
    }
  ]
}